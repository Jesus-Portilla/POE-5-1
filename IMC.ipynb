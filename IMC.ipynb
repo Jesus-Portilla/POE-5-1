{
  "nbformat": 4,
  "nbformat_minor": 0,
  "metadata": {
    "colab": {
      "name": "IMC",
      "provenance": [],
      "authorship_tag": "ABX9TyP3Ml2bLLiVdFQwKy4Q4pAG",
      "include_colab_link": true
    },
    "kernelspec": {
      "name": "python3",
      "display_name": "Python 3"
    },
    "language_info": {
      "name": "python"
    }
  },
  "cells": [
    {
      "cell_type": "markdown",
      "metadata": {
        "id": "view-in-github",
        "colab_type": "text"
      },
      "source": [
        "<a href=\"https://colab.research.google.com/github/Jesus-Portilla/POE-5-1/blob/gh-pages/IMC.ipynb\" target=\"_parent\"><img src=\"https://colab.research.google.com/assets/colab-badge.svg\" alt=\"Open In Colab\"/></a>"
      ]
    },
    {
      "cell_type": "code",
      "execution_count": 1,
      "metadata": {
        "colab": {
          "base_uri": "https://localhost:8080/"
        },
        "id": "Ar4PaC402p4W",
        "outputId": "ea9535fa-6d79-4204-aab4-a6123cd6dbf2"
      },
      "outputs": [
        {
          "output_type": "stream",
          "name": "stdout",
          "text": [
            "1.0\n"
          ]
        }
      ],
      "source": [
        "#@title Calculo del Indice de Masa Corporal{ run: \"auto\", vertical-output: true }\n",
        "Estatura = 1 #@param {type: \"number\"}\n",
        "Peso = 1 #@param {type:\"number\"}\n",
        "print ((Peso)/(Estatura*Estatura))"
      ]
    }
  ]
}